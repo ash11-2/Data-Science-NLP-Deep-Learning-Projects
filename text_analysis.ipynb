Text Preprocessing
import string
from nltk.corpus import stopwords
from sklearn.feature_extraction.text import CountVectorizer
Remove punctuations and stopwords

def process_text(text):
    """
    Removes punctuations(if any), stopwords and returns a list words
    """
    rm_pun = [char for char in text if char not in string.punctuation]
    rm_pun = ''.join(rm_pun)
    
    return [word for word in rm_pun.split() if word.lower() not in stopwords.words('english')]
**CountVectorizer - to convert the text into a matrix of token counts****

cv = CountVectorizer(analyzer=process_text).fit(train_data['text'])
